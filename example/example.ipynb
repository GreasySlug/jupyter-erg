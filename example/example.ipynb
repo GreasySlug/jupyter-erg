{
 "cells": [
  {
   "cell_type": "code",
   "execution_count": null,
   "id": "f48d98e0",
   "metadata": {},
   "outputs": [],
   "source": [
    "print! \"Hello, Jupyter & Erg\""
   ]
  },
  {
   "cell_type": "code",
   "execution_count": null,
   "id": "dc5d5c11",
   "metadata": {},
   "outputs": [],
   "source": []
  }
 ],
 "metadata": {
  "kernelspec": {
   "display_name": "Erg",
   "language": "erg",
   "name": "erg"
  }
 },
 "nbformat": 4,
 "nbformat_minor": 5
}
