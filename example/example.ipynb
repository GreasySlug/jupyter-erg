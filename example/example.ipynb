{
 "cells": [
  {
   "cell_type": "code",
   "execution_count": 1,
   "id": "f48d98e0",
   "metadata": {},
   "outputs": [
    {
     "name": "stdout",
     "output_type": "stream",
     "text": [
      "Hello, Jupyter & Erg\n",
      "None\n"
     ]
    },
    {
     "ename": "",
     "evalue": "1",
     "output_type": "error",
     "traceback": []
    }
   ],
   "source": [
    "print! \"Hello, Jupyter & Erg\""
   ]
  },
  {
   "cell_type": "code",
   "execution_count": 2,
   "id": "b00298ec",
   "metadata": {},
   "outputs": [
    {
     "name": "stdout",
     "output_type": "stream",
     "text": [
      "\n"
     ]
    },
    {
     "ename": "",
     "evalue": "1",
     "output_type": "error",
     "traceback": []
    }
   ],
   "source": [
    "x = if False:\n",
    "  do 1\n",
    "  do 3\n",
    "\"\""
   ]
  },
  {
   "cell_type": "code",
   "execution_count": null,
   "id": "8b186ffe",
   "metadata": {},
   "outputs": [],
   "source": []
  }
 ],
 "metadata": {
  "kernelspec": {
   "display_name": "Erg",
   "language": "erg",
   "name": "erg"
  },
  "language_info": {
   "file_extension": ".er",
   "mimetype": "text/x-erg",
   "name": "erg"
  }
 },
 "nbformat": 4,
 "nbformat_minor": 5
}
